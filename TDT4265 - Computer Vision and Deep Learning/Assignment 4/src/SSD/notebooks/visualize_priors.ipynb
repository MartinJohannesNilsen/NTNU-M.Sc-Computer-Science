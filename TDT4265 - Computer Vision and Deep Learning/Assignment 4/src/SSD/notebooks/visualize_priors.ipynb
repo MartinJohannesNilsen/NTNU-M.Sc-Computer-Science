{
 "cells": [
  {
   "cell_type": "code",
   "execution_count": 46,
   "metadata": {},
   "outputs": [
    {
     "name": "stdout",
     "output_type": "stream",
     "text": [
      "/Users/martinjohannesnilsen/NTNU/Datateknologi/2. semester/TDT4265 - Computer Vision and Deep Learning/Assignment 4/src/SSD\n"
     ]
    }
   ],
   "source": [
    "import matplotlib.pyplot as plt\n",
    "import matplotlib\n",
    "import numpy as np\n",
    "import os\n",
    "import sys\n",
    "sys.path.append(os.path.dirname(os.getcwd())) # Insert all modules from the folder above\n",
    "print(os.path.dirname(os.getcwd())) # Insert all modules from the folder above)\n",
    "from tops.config import LazyConfig, instantiate"
   ]
  },
  {
   "cell_type": "code",
   "execution_count": 47,
   "metadata": {},
   "outputs": [],
   "source": [
    "def plot_bbox(ax, box, color, circle=True):\n",
    "    cx, cy, w, h = box\n",
    "    cx *= cfg.train.imshape[1]\n",
    "    cy *= cfg.train.imshape[0]\n",
    "    w *= cfg.train.imshape[1]\n",
    "    h *= cfg.train.imshape[0]\n",
    "    x1, y1 = cx + w/2, cy + h/2\n",
    "    x0, y0 = cx - w/2, cy - h/2\n",
    "    if circle:\n",
    "        ax.add_artist(matplotlib.patches.Ellipse([cx, cy], w,h, alpha=.1, color=color))\n",
    "        plt.plot(cx, cy, f\"o{color}\")\n",
    "    else:\n",
    "        plt.plot([x0, x0, x1, x1, x0],[y0, y1, y1, y0, y0], f\"{color}\", alpha=.5)\n",
    "        \n",
    "def get_num_boxes_in_fmap(idx):\n",
    "    boxes_per_location = 2 + 2*len(cfg.anchors.aspect_ratios[idx])\n",
    "    feature_map_size = cfg.anchors.feature_sizes[idx]\n",
    "    return int(boxes_per_location * np.prod(feature_map_size))"
   ]
  },
  {
   "cell_type": "code",
   "execution_count": 48,
   "metadata": {},
   "outputs": [
    {
     "name": "stdout",
     "output_type": "stream",
     "text": [
      "Number of anchors: 8732\n",
      "Aspect used for feature map: [2, 3]\n"
     ]
    }
   ],
   "source": [
    "cfg = LazyConfig.load(\"../configs/ssd300.py\")\n",
    "anchors = instantiate(cfg.anchors)(order=\"xywh\")\n",
    "print(\"Number of anchors:\", len(anchors))\n",
    "\n",
    "PLOT_CIRCLE = False\n",
    "fmap_idx_to_visualize = 3\n",
    "print(\"Aspect used for feature map:\", cfg.anchors.aspect_ratios[fmap_idx_to_visualize])\n",
    "# Set which aspect ratio indices we want to visualize\n",
    "aspect_ratio_indices = [3]\n",
    "\n",
    "offset = sum([get_num_boxes_in_fmap(prev_layer) for prev_layer in range(fmap_idx_to_visualize)])"
   ]
  },
  {
   "cell_type": "code",
   "execution_count": 49,
   "metadata": {},
   "outputs": [
    {
     "name": "stdout",
     "output_type": "stream",
     "text": [
      "150\n"
     ]
    }
   ],
   "source": [
    "print(get_num_boxes_in_fmap(3))"
   ]
  },
  {
   "cell_type": "code",
   "execution_count": 50,
   "metadata": {},
   "outputs": [
    {
     "data": {
      "image/png": "[encoded data removed]",
      "text/plain": [
       "<Figure size 432x288 with 1 Axes>"
      ]
     },
     "metadata": {
      "needs_background": "light"
     },
     "output_type": "display_data"
    }
   ],
   "source": [
    "fig, ax = plt.subplots()\n",
    "\n",
    "# Set up our scene\n",
    "plt.ylim([-100, cfg.train.imshape[0]+100])\n",
    "plt.xlim([-100, cfg.train.imshape[1]+100])\n",
    "\n",
    "boxes_per_location = 2 + 2*len(cfg.anchors.aspect_ratios[fmap_idx_to_visualize])\n",
    "indices_to_visualize = []\n",
    "colors = []\n",
    "available_colors = [\"r\", \"g\", \"b\", \"y\", \"m\", \"b\",\"w\"]\n",
    "for idx in range(offset, offset + get_num_boxes_in_fmap(fmap_idx_to_visualize)):\n",
    "    for aspect_ratio_idx in aspect_ratio_indices:\n",
    "        if idx % boxes_per_location == aspect_ratio_idx:\n",
    "            indices_to_visualize.append(idx)\n",
    "            colors.append(available_colors[aspect_ratio_idx])\n",
    "\n",
    "ax.add_artist(plt.Rectangle([0, 0], cfg.train.imshape[1], cfg.train.imshape[0]))\n",
    "for i, idx in enumerate(indices_to_visualize):\n",
    "    prior = anchors[idx]\n",
    "    color = colors[i]\n",
    "    plot_bbox(ax, prior, color, PLOT_CIRCLE)\n",
    "plt.show()"
   ]
  },
  {
   "cell_type": "code",
   "execution_count": null,
   "metadata": {},
   "outputs": [],
   "source": []
  }
 ],
 "metadata": {
  "interpreter": {
   "hash": "31f2aee4e71d21fbe5cf8b01ff0e069b9275f58929596ceb00d14d90e3e16cd6"
  },
  "kernelspec": {
   "display_name": "ssd",
   "language": "python",
   "name": "python3"
  },
  "language_info": {
   "codemirror_mode": {
    "name": "ipython",
    "version": 3
   },
   "file_extension": ".py",
   "mimetype": "text/x-python",
   "name": "python",
   "nbconvert_exporter": "python",
   "pygments_lexer": "ipython3",
   "version": "3.8.9"
  }
 },
 "nbformat": 4,
 "nbformat_minor": 4
}
